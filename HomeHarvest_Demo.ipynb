{
 "cells": [
  {
   "cell_type": "code",
   "execution_count": null,
   "id": "cb48903e-5021-49fe-9688-45cd0bc05d0f",
   "metadata": {},
   "outputs": [],
   "source": [
    "from homeharvest import scrape_property\n",
    "import pandas as pd"
   ]
  },
  {
   "cell_type": "code",
   "execution_count": null,
   "id": "156488ce-0d5f-43c5-87f4-c33e9c427860",
   "metadata": {},
   "outputs": [],
   "source": [
    "pd.set_option('display.max_columns', None)  # Show all columns\n",
    "pd.set_option('display.max_rows', None)     # Show all rows\n",
    "pd.set_option('display.width', None)        # Auto-adjust display width to fit console\n",
    "pd.set_option('display.max_colwidth', 50)   # Limit max column width to 50 characters"
   ]
  },
  {
   "cell_type": "code",
   "execution_count": null,
   "id": "1c8b9744-8606-4e9b-8add-b90371a249a7",
   "metadata": {},
   "outputs": [],
   "source": [
    "scrape_property(\n",
    "    location=\"dallas\", site_name=\"zillow\", listing_type=\"for_sale\"\n",
    ")"
   ]
  },
  {
   "cell_type": "code",
   "execution_count": null,
   "id": "ab7b4c21-da1d-4713-9df4-d7425d8ce21e",
   "metadata": {},
   "outputs": [],
   "source": [
    "scrape_property(\n",
    "    location=\"dallas\", site_name=\"redfin\", listing_type=\"for_sale\"\n",
    ")"
   ]
  }
 ],
 "metadata": {
  "kernelspec": {
   "display_name": "Python 3 (ipykernel)",
   "language": "python",
   "name": "python3"
  },
  "language_info": {
   "codemirror_mode": {
    "name": "ipython",
    "version": 3
   },
   "file_extension": ".py",
   "mimetype": "text/x-python",
   "name": "python",
   "nbconvert_exporter": "python",
   "pygments_lexer": "ipython3",
   "version": "3.10.11"
  }
 },
 "nbformat": 4,
 "nbformat_minor": 5
}
